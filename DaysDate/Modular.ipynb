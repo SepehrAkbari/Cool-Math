{
 "cells": [
  {
   "cell_type": "markdown",
   "metadata": {},
   "source": [
    "### Modular Arithmetic with Relative Offsets\n",
    "\n",
    "The number of days between two dates ( \\Delta d ) is calculated. This is equivalent to determining the “offset” of the target date relative to the current date.\n",
    "\n",
    "Days of the week are modeled as a cyclic group of order $7 (\\mathbb{Z}_7)$, where each day is represented as an integer from $0$ to $6$. Adding the offset ($\\Delta d$) to the current day’s position ($x$) and taking modulo $7$ ensures the result wraps around correctly in the cycle of days.\n",
    "\n",
    "$$\n",
    "y = (x + \\Delta d) \\mod 7\n",
    "$$"
   ]
  },
  {
   "cell_type": "code",
   "execution_count": null,
   "metadata": {},
   "outputs": [],
   "source": [
    "from datetime import date # to get the current date\n",
    "\n",
    "def DateToDay(year, month, day):\n",
    "    days = [\"Monday\", \"Tuesday\", \"Wednesday\", \"Thursday\", \"Friday\", \"Saturday\", \"Sunday\"]\n",
    "    \n",
    "    today = date.today()\n",
    "    current = today.weekday()\n",
    "\n",
    "    wantedDate = date(year, month, day)\n",
    "    \n",
    "    deltaDays = (wantedDate - today).days\n",
    "\n",
    "    dayOfWeek = (current + deltaDays) % 7\n",
    "    dayOfWeek = dayOfWeek % 7\n",
    "\n",
    "    return days[dayOfWeek]"
   ]
  },
  {
   "cell_type": "code",
   "execution_count": 3,
   "metadata": {},
   "outputs": [
    {
     "name": "stdout",
     "output_type": "stream",
     "text": [
      "The date 24-6-2004 is a Thursday.\n"
     ]
    }
   ],
   "source": [
    "def main():\n",
    "    year = getYear()\n",
    "    month = getMonth()\n",
    "    day = getDay(year, month)\n",
    "\n",
    "    print(f\"The date {day}-{month}-{year} is a {DateToDay(year, month, day)}.\")\n",
    "\n",
    "def getYear():\n",
    "    while True:\n",
    "        try:\n",
    "            year = int(input(\"Enter year: \"))\n",
    "            if year <= 0:\n",
    "                raise ValueError\n",
    "            return year\n",
    "        except ValueError:\n",
    "            print(\"Invalid year. Please enter a valid year.\")\n",
    "\n",
    "def getMonth():\n",
    "    while True:\n",
    "        try:\n",
    "            month = int(input(\"Enter month: \"))\n",
    "            if month < 1 or month > 12:\n",
    "                raise ValueError\n",
    "            return month\n",
    "        except ValueError:\n",
    "            print(\"Invalid month. Please enter a valid month.\")\n",
    "\n",
    "def getDay(year, month):\n",
    "    while True:\n",
    "        try:\n",
    "            day = int(input(\"Enter day: \"))\n",
    "            if day < 1 or day > 31:\n",
    "                raise ValueError\n",
    "            elif month == 2 and day > 29:\n",
    "                raise ValueError\n",
    "            elif month == 2 and day == 29 and not isLeapYear(year):\n",
    "                raise ValueError\n",
    "            elif month in [4, 6, 9, 11] and day > 30:\n",
    "                raise ValueError\n",
    "            return day\n",
    "        except ValueError:\n",
    "            print(\"Invalid day. Please enter a valid day.\")\n",
    "\n",
    "def isLeapYear(year):\n",
    "    return year % 4 == 0 and (year % 100 != 0 or year % 400 == 0)\n",
    "\n",
    "if __name__ == \"__main__\":\n",
    "    main()"
   ]
  }
 ],
 "metadata": {
  "kernelspec": {
   "display_name": "Python 3",
   "language": "python",
   "name": "python3"
  },
  "language_info": {
   "codemirror_mode": {
    "name": "ipython",
    "version": 3
   },
   "file_extension": ".py",
   "mimetype": "text/x-python",
   "name": "python",
   "nbconvert_exporter": "python",
   "pygments_lexer": "ipython3",
   "version": "3.10.7"
  }
 },
 "nbformat": 4,
 "nbformat_minor": 2
}
