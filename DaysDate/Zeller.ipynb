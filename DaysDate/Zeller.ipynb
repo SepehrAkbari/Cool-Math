{
 "cells": [
  {
   "cell_type": "markdown",
   "metadata": {},
   "source": [
    "### Zeller’s Congruence\n",
    "\n",
    "$$\n",
    "h = (q + \\lfloor \\frac{13(m+1)}{5} \\rfloor + K + \\lfloor \\frac{K}{4} \\rfloor + \\lfloor \\frac{J}{4} \\rfloor - 2J)\\mod 7\n",
    "$$"
   ]
  },
  {
   "cell_type": "code",
   "execution_count": 8,
   "metadata": {},
   "outputs": [],
   "source": [
    "def DateToDay(year, month, day):\n",
    "    if month < 3:\n",
    "        month += 12\n",
    "        year -= 1\n",
    "\n",
    "    q = day\n",
    "    m = month\n",
    "    K = year % 100\n",
    "    J = year // 100\n",
    "\n",
    "    h = (q + (13 * (m + 1)) // 5 + K + (K // 4) + (J // 4) - 2 * J) % 7\n",
    "\n",
    "    days = [\"Saturday\", \"Sunday\", \"Monday\", \"Tuesday\", \"Wednesday\", \"Thursday\", \"Friday\"]\n",
    "    return days[h]"
   ]
  },
  {
   "cell_type": "code",
   "execution_count": 13,
   "metadata": {},
   "outputs": [
    {
     "name": "stdout",
     "output_type": "stream",
     "text": [
      "The date 21-6-1974 is a Friday.\n"
     ]
    }
   ],
   "source": [
    "def main():\n",
    "    year = getYear()\n",
    "    month = getMonth()\n",
    "    day = getDay(year, month)\n",
    "\n",
    "    print(f\"The date {day}-{month}-{year} is a {DateToDay(year, month, day)}.\")\n",
    "\n",
    "def getYear():\n",
    "    while True:\n",
    "        try:\n",
    "            year = int(input(\"Enter year: \"))\n",
    "            if year <= 0:\n",
    "                raise ValueError\n",
    "            return year\n",
    "        except ValueError:\n",
    "            print(\"Invalid year. Please enter a valid year.\")\n",
    "\n",
    "def getMonth():\n",
    "    while True:\n",
    "        try:\n",
    "            month = int(input(\"Enter month: \"))\n",
    "            if month < 1 or month > 12:\n",
    "                raise ValueError\n",
    "            return month\n",
    "        except ValueError:\n",
    "            print(\"Invalid month. Please enter a valid month.\")\n",
    "\n",
    "def getDay(year, month):\n",
    "    while True:\n",
    "        try:\n",
    "            day = int(input(\"Enter day: \"))\n",
    "            if day < 1 or day > 31:\n",
    "                raise ValueError\n",
    "            elif month == 2 and day > 29:\n",
    "                raise ValueError\n",
    "            elif month == 2 and day == 29 and not isLeapYear(year):\n",
    "                raise ValueError\n",
    "            elif month in [4, 6, 9, 11] and day > 30:\n",
    "                raise ValueError\n",
    "            return day\n",
    "        except ValueError:\n",
    "            print(\"Invalid day. Please enter a valid day.\")\n",
    "\n",
    "def isLeapYear(year):\n",
    "    return year % 4 == 0 and (year % 100 != 0 or year % 400 == 0)\n",
    "\n",
    "if __name__ == \"__main__\":\n",
    "    main()"
   ]
  }
 ],
 "metadata": {
  "kernelspec": {
   "display_name": "Python 3",
   "language": "python",
   "name": "python3"
  },
  "language_info": {
   "codemirror_mode": {
    "name": "ipython",
    "version": 3
   },
   "file_extension": ".py",
   "mimetype": "text/x-python",
   "name": "python",
   "nbconvert_exporter": "python",
   "pygments_lexer": "ipython3",
   "version": "3.10.7"
  }
 },
 "nbformat": 4,
 "nbformat_minor": 2
}
